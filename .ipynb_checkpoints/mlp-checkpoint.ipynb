{
 "cells": [
  {
   "cell_type": "code",
   "execution_count": 32,
   "id": "7541702d",
   "metadata": {},
   "outputs": [],
   "source": [
    "import numpy as np \n",
    "import pandas as pd\n",
    "import matplotlib.pyplot as plt\n",
    "from sklearn.model_selection import train_test_split\n",
    "from logistic_regression import load_data, sigmoid, create_feature_vectors\n"
   ]
  },
  {
   "cell_type": "code",
   "execution_count": 14,
   "id": "31996e7c",
   "metadata": {},
   "outputs": [],
   "source": [
    "#Load the dataset.\n",
    "X_train, X_test, y_train, y_test = load_data()\n",
    "\n",
    "#split our training dataset to train and validation set.\n",
    "X_train, X_val, y_train, y_val = train_test_split(X_train, y_train, test_size=0.2, train_size=0.8, random_state=42) \n",
    "\n"
   ]
  },
  {
   "cell_type": "code",
   "execution_count": 15,
   "id": "b94e6306",
   "metadata": {},
   "outputs": [],
   "source": [
    "#Preprocessing\n",
    "\n",
    "#Creating training, test and validation vectors.\n",
    "create_feature_vectors(784, X_train)\n",
    "create_feature_vectors(784, X_test)\n",
    "create_feature_vectors(784, X_val)    \n",
    "\n",
    "#normalize data to get values between (0,1)\n",
    "X_train = X_train.astype(float) / 255\n",
    "X_test = X_test.astype(float) / 255\n",
    "X_val = X_val.astype(float) / 255\n",
    "\n",
    "#We add a column of 1s to each data vector for the bias.\n",
    "X_train = np.hstack( (np.ones((X_train.shape[0], 1) ), X_train))\n",
    "X_test = np.hstack( (np.ones((X_test.shape[0], 1) ), X_test))\n",
    "X_val = np.hstack( (np.ones((X_val.shape[0], 1) ), X_val))\n",
    "\n",
    "#Taking the true labels for the 6th class.\n",
    "#y_train = y_train[:,1]\n",
    "#y_val = y_val[:,1]\n"
   ]
  },
  {
   "cell_type": "code",
   "execution_count": 16,
   "id": "706f06d1",
   "metadata": {},
   "outputs": [
    {
     "name": "stdout",
     "output_type": "stream",
     "text": [
      "[[0 1]\n",
      " [1 0]\n",
      " [0 1]\n",
      " ...\n",
      " [1 0]\n",
      " [1 0]\n",
      " [0 1]]\n",
      "(9071, 2)\n",
      "[[1 0]\n",
      " [1 0]\n",
      " [1 0]\n",
      " ...\n",
      " [1 0]\n",
      " [1 0]\n",
      " [0 1]]\n",
      "(9071, 785)\n"
     ]
    }
   ],
   "source": [
    "print(y_train)\n",
    "print(y_train.shape)\n",
    "print(y_val)\n",
    "print(X_train.shape)"
   ]
  },
  {
   "cell_type": "code",
   "execution_count": 19,
   "id": "33ac89cb",
   "metadata": {},
   "outputs": [
    {
     "ename": "TypeError",
     "evalue": "'module' object is not callable",
     "output_type": "error",
     "traceback": [
      "\u001b[1;31m---------------------------------------------------------------------------\u001b[0m",
      "\u001b[1;31mTypeError\u001b[0m                                 Traceback (most recent call last)",
      "\u001b[1;32m~\\AppData\\Local\\Temp/ipykernel_7292/1640190236.py\u001b[0m in \u001b[0;36m<module>\u001b[1;34m\u001b[0m\n\u001b[0;32m      5\u001b[0m \u001b[0msamples\u001b[0m \u001b[1;33m=\u001b[0m \u001b[0mnp\u001b[0m\u001b[1;33m.\u001b[0m\u001b[0mrandom\u001b[0m\u001b[1;33m.\u001b[0m\u001b[0mrandint\u001b[0m\u001b[1;33m(\u001b[0m\u001b[0mX_train\u001b[0m\u001b[1;33m.\u001b[0m\u001b[0mshape\u001b[0m\u001b[1;33m[\u001b[0m\u001b[1;36m0\u001b[0m\u001b[1;33m]\u001b[0m\u001b[1;33m,\u001b[0m \u001b[0msize\u001b[0m\u001b[1;33m=\u001b[0m\u001b[0mn\u001b[0m\u001b[1;33m)\u001b[0m\u001b[1;33m\u001b[0m\u001b[1;33m\u001b[0m\u001b[0m\n\u001b[0;32m      6\u001b[0m \u001b[1;33m\u001b[0m\u001b[0m\n\u001b[1;32m----> 7\u001b[1;33m \u001b[0mplt\u001b[0m\u001b[1;33m.\u001b[0m\u001b[0mfigure\u001b[0m\u001b[1;33m(\u001b[0m \u001b[0mfigsize\u001b[0m\u001b[1;33m=\u001b[0m\u001b[1;33m(\u001b[0m\u001b[1;36m11\u001b[0m\u001b[1;33m,\u001b[0m\u001b[1;36m11\u001b[0m\u001b[1;33m)\u001b[0m \u001b[1;33m)\u001b[0m\u001b[1;33m\u001b[0m\u001b[1;33m\u001b[0m\u001b[0m\n\u001b[0m\u001b[0;32m      8\u001b[0m \u001b[1;33m\u001b[0m\u001b[0m\n\u001b[0;32m      9\u001b[0m \u001b[0mcnt\u001b[0m \u001b[1;33m=\u001b[0m \u001b[1;36m0\u001b[0m\u001b[1;33m\u001b[0m\u001b[1;33m\u001b[0m\u001b[0m\n",
      "\u001b[1;31mTypeError\u001b[0m: 'module' object is not callable"
     ]
    }
   ],
   "source": [
    "#View the dataset\n",
    "# plot 5 random images from the training set\n",
    "n = 100\n",
    "sqrt_n = int( n**0.5 )\n",
    "samples = np.random.randint(X_train.shape[0], size=n)\n",
    "\n",
    "plt.figure( figsize=(11,11) )\n",
    "\n",
    "cnt = 0\n",
    "for i in samples:\n",
    "    cnt += 1\n",
    "    plt.subplot( sqrt_n, sqrt_n, cnt )\n",
    "    plt.subplot( sqrt_n, sqrt_n, cnt ).axis('off')\n",
    "    plt.imshow( X_train[i].reshape(28,28), cmap='gray'  )\n",
    "\n",
    "plt.show()"
   ]
  },
  {
   "cell_type": "code",
   "execution_count": 29,
   "id": "214b6045",
   "metadata": {},
   "outputs": [
    {
     "data": {
      "text/plain": [
       "'\\nWe will need one function for the forward pass of the nn\\nand one function for the back-propagation pass for the weights.\\n\\n'"
      ]
     },
     "execution_count": 29,
     "metadata": {},
     "output_type": "execute_result"
    }
   ],
   "source": [
    "K=2    #We've got only 2 classes\n",
    "N, D = X_train.shape\n",
    "Winit = 0.5 * np.ones((K, D))   #(2,785)\n",
    "options = [500, 1e-6, 0.5/N]# Maximum number of iteration of gradient ascend, Tolerance, Learning rate\n",
    "\n",
    "\n",
    "\"\"\"\n",
    "We will have m nodes on the single hidden layer.\n",
    "From the input layer to the hidden layer we will have 785 * m weights.\n",
    "While we just have K=2 classes, there will be m weights from the hidden layer to the output layer. \n",
    "\"\"\"\n",
    "\n",
    "def forward_gradient(X, W, t, lamda):\n",
    "    #X: NxD\n",
    "    #W: KxD\n",
    "    #t: NxD\n",
    "    \n",
    "    E = 0\n",
    "    N, D = X.shape\n",
    "    K = t.shape[1]\n",
    "    \n",
    "    #we use the logistic sigmoid as the activation function\n",
    "    y = sigmoid( X.dot(W.T) )\n",
    "    \n",
    "    for n in range(N):\n",
    "        for k in range(K):\n",
    "            E += t[n][k] * np.log( y[n][k] )\n",
    "    E -= lamda * np.sum( np.square( W ) ) / 2\n",
    "    \n",
    "    gradEw = np.dot( (t-y).T, X ) - lamda * W\n",
    "    \n",
    "    return E, gradEw\n",
    "\n",
    "\"\"\"\n",
    "We will need one function for the forward pass of the nn\n",
    "and one function for the back-propagation pass for the weights.\n",
    "\n",
    "\"\"\""
   ]
  },
  {
   "cell_type": "code",
   "execution_count": 27,
   "id": "fa93aa4f",
   "metadata": {},
   "outputs": [],
   "source": [
    "def back_propagation(t, X, lamda, Winit, options):\n",
    "    \n",
    "    W = Winit\n",
    "    \n",
    "    _iter = options[0] #max_iterations\n",
    "    tol = options[1] #tolerance\n",
    "    lr = options[2] #learning rate\n",
    "    \n",
    "    Ewol = -np.inf\n",
    "    costs = []\n",
    "    for i in range(1, _iter+1):\n",
    "        Ew, gradEw = forward_gradient(X, W, t, lamda)\n",
    "        \n",
    "        costs.append(Ew)\n",
    "        \n",
    "        if i % 50 == 0:\n",
    "            print('Iteration : %d, Cost function :%f' % (i, Ew))\n",
    "        \n",
    "        if np.abs(Ew - Ewol) < tol:\n",
    "            break\n",
    "        #update W with gradient ascent\n",
    "        W = W + lr * gradEw\n",
    "        \n",
    "        Ewol = Ew\n",
    "    \n",
    "    return W, costs\n",
    "    \n",
    "    \n",
    "    "
   ]
  },
  {
   "cell_type": "code",
   "execution_count": 30,
   "id": "11b5a838",
   "metadata": {},
   "outputs": [
    {
     "name": "stdout",
     "output_type": "stream",
     "text": [
      "Iteration : 50, Cost function :-768.766496\n",
      "Iteration : 100, Cost function :-673.158806\n",
      "Iteration : 150, Cost function :-624.517187\n",
      "Iteration : 200, Cost function :-592.082327\n",
      "Iteration : 250, Cost function :-567.763132\n",
      "Iteration : 300, Cost function :-548.328550\n",
      "Iteration : 350, Cost function :-532.169650\n",
      "Iteration : 400, Cost function :-518.367489\n",
      "Iteration : 450, Cost function :-506.346133\n",
      "Iteration : 500, Cost function :-495.719664\n"
     ]
    }
   ],
   "source": [
    "#Initializing w for the gradient ascent\n",
    "Winit = np.zeros((K, D))\n",
    "lamda = 0.1\n",
    "\n",
    "W, costs = back_propagation(y_train, X_train, lamda, Winit, options)"
   ]
  },
  {
   "cell_type": "code",
   "execution_count": 34,
   "id": "c3c19665",
   "metadata": {},
   "outputs": [],
   "source": [
    "def predict(W, X):\n",
    "    \n",
    "    m = X.shape[0]\n",
    "    \n",
    "    #We will use 0.5 as the threshold to decide\n",
    "    #on which class it belongs\n",
    "    pred = np.zeros((m,1));\n",
    "    pred = sigmoid(X.dot(W.T))\n",
    "    prob = pred\n",
    "    pred = pred > 0.5 - 1e-6\n",
    "    \n",
    "    return pred, prob\n"
   ]
  },
  {
   "cell_type": "code",
   "execution_count": 37,
   "id": "001d3cd1",
   "metadata": {},
   "outputs": [
    {
     "name": "stdout",
     "output_type": "stream",
     "text": [
      "Accuracy of training set 0.9813691985448132\n",
      "Accuracy of validation set 0.9761904761904762\n"
     ]
    }
   ],
   "source": [
    "#test the mlp on our training and validation set.\n",
    "pred_train, prob_train = predict(W, X_train)\n",
    "pred_val, prob_val = predict(W, X_val)\n",
    "#Accuracy\n",
    "print( 'Accuracy of training set', np.mean( pred_train.astype('int') == y_train ) )\n",
    "print( 'Accuracy of validation set', np.mean( pred_val.astype('int') == y_val ) )\n"
   ]
  },
  {
   "cell_type": "code",
   "execution_count": 33,
   "id": "72bcbc59",
   "metadata": {},
   "outputs": [
    {
     "data": {
      "image/png": "[encoded data removed]",
      "text/plain": [
       "<Figure size 432x288 with 1 Axes>"
      ]
     },
     "metadata": {
      "needs_background": "light"
     },
     "output_type": "display_data"
    }
   ],
   "source": [
    "plt.plot(np.squeeze(costs))\n",
    "plt.ylabel('cost')\n",
    "plt.xlabel('iterations (per tens)')\n",
    "plt.title(\"Learning rate =\" + str(format(options[2], 'f')))\n",
    "plt.show()"
   ]
  },
  {
   "cell_type": "code",
   "execution_count": 70,
   "id": "249199ae",
   "metadata": {},
   "outputs": [
    {
     "ename": "TypeError",
     "evalue": "'pred_val1' is an invalid keyword argument for print()",
     "output_type": "error",
     "traceback": [
      "\u001b[1;31m---------------------------------------------------------------------------\u001b[0m",
      "\u001b[1;31mTypeError\u001b[0m                                 Traceback (most recent call last)",
      "\u001b[1;32m~\\AppData\\Local\\Temp/ipykernel_7292/593282908.py\u001b[0m in \u001b[0;36m<module>\u001b[1;34m\u001b[0m\n\u001b[1;32m----> 1\u001b[1;33m \u001b[0mprint\u001b[0m\u001b[1;33m(\u001b[0m\u001b[0mpred_val1\u001b[0m \u001b[1;33m=\u001b[0m \u001b[0mpred_val\u001b[0m\u001b[1;33m[\u001b[0m\u001b[1;33m:\u001b[0m\u001b[1;33m,\u001b[0m\u001b[1;36m0\u001b[0m\u001b[1;33m]\u001b[0m\u001b[1;33m)\u001b[0m\u001b[1;33m\u001b[0m\u001b[1;33m\u001b[0m\u001b[0m\n\u001b[0m\u001b[0;32m      2\u001b[0m \u001b[0mprint\u001b[0m\u001b[1;33m(\u001b[0m\u001b[0mpred_val2\u001b[0m \u001b[1;33m=\u001b[0m \u001b[0mpred_val\u001b[0m\u001b[1;33m[\u001b[0m\u001b[1;33m:\u001b[0m\u001b[1;33m,\u001b[0m\u001b[1;36m1\u001b[0m\u001b[1;33m]\u001b[0m\u001b[1;33m)\u001b[0m\u001b[1;33m\u001b[0m\u001b[1;33m\u001b[0m\u001b[0m\n\u001b[0;32m      3\u001b[0m \u001b[0mprint\u001b[0m\u001b[1;33m(\u001b[0m\u001b[0mpred_val\u001b[0m\u001b[1;33m[\u001b[0m\u001b[1;36m0\u001b[0m\u001b[1;33m]\u001b[0m\u001b[1;33m)\u001b[0m\u001b[1;33m\u001b[0m\u001b[1;33m\u001b[0m\u001b[0m\n\u001b[0;32m      4\u001b[0m \u001b[0mprint\u001b[0m\u001b[1;33m(\u001b[0m\u001b[0mpred_val\u001b[0m\u001b[1;33m)\u001b[0m\u001b[1;33m\u001b[0m\u001b[1;33m\u001b[0m\u001b[0m\n\u001b[0;32m      5\u001b[0m \u001b[1;31m#pred_val[np.where(pred_val == \" True False\")] = \"1 0\"\u001b[0m\u001b[1;33m\u001b[0m\u001b[1;33m\u001b[0m\u001b[0m\n",
      "\u001b[1;31mTypeError\u001b[0m: 'pred_val1' is an invalid keyword argument for print()"
     ]
    }
   ],
   "source": [
    "pred_val1 = pred_val[:,0]\n",
    "pred_val2 = pred_val[:,1]\n",
    "print(pred_val[0])\n",
    "print(pred_val)\n",
    "#pred_val[np.where(pred_val == \" True False\")] = \"1 0\"\n",
    "print(pred_val)"
   ]
  },
  {
   "cell_type": "code",
   "execution_count": 82,
   "id": "c14e99cb",
   "metadata": {},
   "outputs": [
    {
     "name": "stdout",
     "output_type": "stream",
     "text": [
      "(2268, 1)\n",
      "[[ True]\n",
      " [ True]\n",
      " [ True]\n",
      " ...\n",
      " [ True]\n",
      " [ True]\n",
      " [ True]]\n",
      "(array([   3,    4,    5, ..., 2258, 2261, 2264], dtype=int64),)\n"
     ]
    }
   ],
   "source": [
    "#pred_val1[np.where(pred_val1 == True)] = 1\n",
    "#pred_val1 = pred_val1.reshape(-1,1)\n",
    "\n",
    "print(pred_val1.shape)\n",
    "print(pred_val1)\n",
    "\n",
    "print(np.where(pred_val2 != False))"
   ]
  },
  {
   "cell_type": "code",
   "execution_count": 47,
   "id": "1390f508",
   "metadata": {},
   "outputs": [
    {
     "ename": "ValueError",
     "evalue": "a must be 1-dimensional",
     "output_type": "error",
     "traceback": [
      "\u001b[1;31m---------------------------------------------------------------------------\u001b[0m",
      "\u001b[1;31mValueError\u001b[0m                                Traceback (most recent call last)",
      "\u001b[1;32m~\\AppData\\Local\\Temp/ipykernel_7292/4089768143.py\u001b[0m in \u001b[0;36m<module>\u001b[1;34m\u001b[0m\n\u001b[0;32m      5\u001b[0m \u001b[1;31m# plot n misclassified examples from the Test set\u001b[0m\u001b[1;33m\u001b[0m\u001b[1;33m\u001b[0m\u001b[0m\n\u001b[0;32m      6\u001b[0m \u001b[0mn\u001b[0m \u001b[1;33m=\u001b[0m \u001b[1;36m25\u001b[0m\u001b[1;33m\u001b[0m\u001b[1;33m\u001b[0m\u001b[0m\n\u001b[1;32m----> 7\u001b[1;33m \u001b[0msamples\u001b[0m \u001b[1;33m=\u001b[0m \u001b[0mnp\u001b[0m\u001b[1;33m.\u001b[0m\u001b[0mrandom\u001b[0m\u001b[1;33m.\u001b[0m\u001b[0mchoice\u001b[0m\u001b[1;33m(\u001b[0m\u001b[0mfaults\u001b[0m\u001b[1;33m,\u001b[0m \u001b[0mn\u001b[0m\u001b[1;33m)\u001b[0m\u001b[1;33m\u001b[0m\u001b[1;33m\u001b[0m\u001b[0m\n\u001b[0m\u001b[0;32m      8\u001b[0m \u001b[0msqrt_n\u001b[0m \u001b[1;33m=\u001b[0m \u001b[0mint\u001b[0m\u001b[1;33m(\u001b[0m \u001b[0mn\u001b[0m \u001b[1;33m**\u001b[0m \u001b[1;36m0.5\u001b[0m \u001b[1;33m)\u001b[0m\u001b[1;33m\u001b[0m\u001b[1;33m\u001b[0m\u001b[0m\n\u001b[0;32m      9\u001b[0m \u001b[1;33m\u001b[0m\u001b[0m\n",
      "\u001b[1;32mmtrand.pyx\u001b[0m in \u001b[0;36mnumpy.random.mtrand.RandomState.choice\u001b[1;34m()\u001b[0m\n",
      "\u001b[1;31mValueError\u001b[0m: a must be 1-dimensional"
     ]
    }
   ],
   "source": [
    "faults = (y_val != pred_val).astype(int)\n",
    "\n",
    "incorrect_indices = np.where(faults != 0)\n",
    "\n",
    "# plot n misclassified examples from the Test set\n",
    "n = 25\n",
    "samples = np.random.choice(faults, n)\n",
    "sqrt_n = int( n ** 0.5 )\n",
    "\n",
    "plt.figure( figsize=(11,13) )\n",
    "\n",
    "cnt = 0\n",
    "for i in samples:\n",
    "    cnt += 1\n",
    "    plt.subplot( sqrt_n, sqrt_n, cnt )\n",
    "    plt.subplot( sqrt_n, sqrt_n, cnt ).axis('off')\n",
    "    plt.imshow( X_test[i,1:].reshape(28,28)*255, cmap='gray' )\n",
    "    plt.title(\"True: \"+str(np.argmax(y_val,1)[i])+ \"\\n Predicted: \"+ str(pred_val[i]))\n",
    "    \n",
    "plt.show()"
   ]
  },
  {
   "cell_type": "code",
   "execution_count": 50,
   "id": "c667049c",
   "metadata": {},
   "outputs": [
    {
     "name": "stdout",
     "output_type": "stream",
     "text": [
      "[[0 0]\n",
      " [0 0]\n",
      " [0 0]\n",
      " ...\n",
      " [0 0]\n",
      " [0 0]\n",
      " [1 1]]\n",
      "(array([  69,   69,   88,   88,  115,  115,  217,  217,  238,  238,  301,\n",
      "        301,  329,  329,  472,  472,  473,  473,  474,  474,  522,  522,\n",
      "        587,  587,  602,  602,  628,  628,  663,  663,  813,  813,  836,\n",
      "        836,  867,  867,  882,  882,  898,  898,  899,  899,  900,  900,\n",
      "        909,  909,  969,  969, 1008, 1008, 1028, 1028, 1068, 1068, 1128,\n",
      "       1128, 1145, 1145, 1149, 1149, 1214, 1214, 1226, 1226, 1235, 1235,\n",
      "       1271, 1271, 1300, 1300, 1476, 1476, 1490, 1490, 1593, 1593, 1608,\n",
      "       1608, 1695, 1695, 1744, 1744, 1906, 1906, 1947, 1947, 1958, 1958,\n",
      "       2024, 2024, 2032, 2032, 2060, 2060, 2069, 2069, 2120, 2120, 2162,\n",
      "       2162, 2203, 2203, 2213, 2213, 2241, 2241, 2267, 2267], dtype=int64), array([0, 1, 0, 1, 0, 1, 0, 1, 0, 1, 0, 1, 0, 1, 0, 1, 0, 1, 0, 1, 0, 1,\n",
      "       0, 1, 0, 1, 0, 1, 0, 1, 0, 1, 0, 1, 0, 1, 0, 1, 0, 1, 0, 1, 0, 1,\n",
      "       0, 1, 0, 1, 0, 1, 0, 1, 0, 1, 0, 1, 0, 1, 0, 1, 0, 1, 0, 1, 0, 1,\n",
      "       0, 1, 0, 1, 0, 1, 0, 1, 0, 1, 0, 1, 0, 1, 0, 1, 0, 1, 0, 1, 0, 1,\n",
      "       0, 1, 0, 1, 0, 1, 0, 1, 0, 1, 0, 1, 0, 1, 0, 1, 0, 1, 0, 1],\n",
      "      dtype=int64))\n"
     ]
    }
   ],
   "source": [
    "differences = (y_val != pred_val).astype(int)\n",
    "faults = np.where(difference != 0).shape[0]\n",
    "\n",
    "print(faults)\n",
    "incorrect_indices = np.where(faults != 0)\n",
    "print(incorrect_indices)"
   ]
  }
 ],
 "metadata": {
  "kernelspec": {
   "display_name": "Python 3 (ipykernel)",
   "language": "python",
   "name": "python3"
  },
  "language_info": {
   "codemirror_mode": {
    "name": "ipython",
    "version": 3
   },
   "file_extension": ".py",
   "mimetype": "text/x-python",
   "name": "python",
   "nbconvert_exporter": "python",
   "pygments_lexer": "ipython3",
   "version": "3.9.7"
  }
 },
 "nbformat": 4,
 "nbformat_minor": 5
}
